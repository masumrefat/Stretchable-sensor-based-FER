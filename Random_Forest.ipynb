{
  "nbformat": 4,
  "nbformat_minor": 0,
  "metadata": {
    "colab": {
      "name": "Random Forest.ipynb",
      "provenance": [],
      "collapsed_sections": []
    },
    "kernelspec": {
      "name": "python3",
      "display_name": "Python 3"
    },
    "accelerator": "GPU"
  },
  "cells": [
    {
      "cell_type": "code",
      "metadata": {
        "id": "mZoA2DBOOjQW"
      },
      "source": [
        "#Lets load required libraries\n",
        "\n",
        "import itertools\n",
        "import numpy as np\n",
        "import matplotlib.pyplot as plt\n",
        "from matplotlib.ticker import NullFormatter\n",
        "import pandas as pd\n",
        "import numpy as np\n",
        "import matplotlib.ticker as ticker\n",
        "from sklearn import preprocessing\n",
        "%matplotlib inline"
      ],
      "execution_count": null,
      "outputs": []
    },
    {
      "cell_type": "code",
      "metadata": {
        "id": "cpL3JtQZOlYP"
      },
      "source": [
        "\n",
        "import keras\n",
        "import keras_preprocessing\n",
        "import tensorflow as tf\n",
        "import numpy as np\n",
        "import seaborn as sns \n",
        "import matplotlib.pyplot as plt\n",
        "import os\n",
        "import pandas as pd\n",
        "from keras.models import Sequential\n",
        "from keras.layers import Dense \n",
        "from keras.optimizers import Adam \n",
        "from sklearn.model_selection import train_test_split\n",
        "from keras.callbacks import TensorBoard, EarlyStopping, ModelCheckpoint"
      ],
      "execution_count": null,
      "outputs": []
    },
    {
      "cell_type": "markdown",
      "metadata": {
        "id": "2CKuuAVWJUXn"
      },
      "source": [
        ""
      ]
    },
    {
      "cell_type": "code",
      "metadata": {
        "id": "tSiSeX1DOp_U"
      },
      "source": [
        "df=pd.read_csv(\"/content/Datasetfinal.csv\",delimiter=\",\")\n",
        "\n"
      ],
      "execution_count": null,
      "outputs": []
    },
    {
      "cell_type": "code",
      "metadata": {
        "id": "dsi0ENilOzWB"
      },
      "source": [
        "df.tail(200)"
      ],
      "execution_count": null,
      "outputs": []
    },
    {
      "cell_type": "code",
      "metadata": {
        "id": "68KZmTgzO4mX"
      },
      "source": [
        "df.columns\n"
      ],
      "execution_count": null,
      "outputs": []
    },
    {
      "cell_type": "code",
      "metadata": {
        "id": "lS-MFyISPDlV"
      },
      "source": [
        "X = df[['sensor_1', 'sensor_2', 'sensor_3', 'Standard_dev', 'mean']] .values  #.astype(float)\n",
        "X[0:5]"
      ],
      "execution_count": null,
      "outputs": []
    },
    {
      "cell_type": "code",
      "metadata": {
        "id": "gxaKKosfncoc"
      },
      "source": [
        "sensor_1=df['sensor_1']\n",
        "sensor_2=df['sensor_2']\n",
        "sensor_3=df['sensor_3']\n",
        "#sensor_4=df['S4']\n",
        "sensor_target=df['outcome_1']\n",
        "#plt.scatter(sensor_1,sensor_target, color='g',label=\"Sensor 1\")\n",
        "#plt.scatter(sensor_2,sensor_target, color='r',label=\"Sensor 2\")\n",
        "plt.scatter(sensor_3,sensor_target, color='b',label=\"Sensor 3\")\n",
        "#plt.scatter(sensor_4,sensor_target, color='y',label=\"Sensor 4\")\n",
        "\n",
        "plt.xlabel('Resistance value')\n",
        "plt.ylabel('Emotion Classes')\n",
        "plt.title('Stretch Sensor 1 Dataset')\n",
        "plt.show()"
      ],
      "execution_count": null,
      "outputs": []
    },
    {
      "cell_type": "code",
      "metadata": {
        "id": "1eqgDDyXPH1X"
      },
      "source": [
        "df_out=df[['outcome_1']]\n",
        "y = df_out.values\n",
        "y[0:5]"
      ],
      "execution_count": null,
      "outputs": []
    },
    {
      "cell_type": "code",
      "metadata": {
        "id": "zh8eDCCQPLeV"
      },
      "source": [
        "\n",
        "#X = preprocessing.StandardScaler().fit(X).transform(X.astype(float))\n",
        "#X[0:5]"
      ],
      "execution_count": null,
      "outputs": []
    },
    {
      "cell_type": "code",
      "metadata": {
        "id": "d1yNFeJ-POwP"
      },
      "source": [
        "from sklearn.model_selection import train_test_split\n",
        "X_train, X_test,y_train,y_test=train_test_split(X,y, test_size=0.2,random_state=4)\n",
        "print('Train set:',X_train.shape,y_train.shape)\n",
        "print('Test set :',X_test.shape,y_test.shape)"
      ],
      "execution_count": null,
      "outputs": []
    },
    {
      "cell_type": "code",
      "metadata": {
        "id": "9sFrqlSajKV7"
      },
      "source": [
        ""
      ],
      "execution_count": null,
      "outputs": []
    },
    {
      "cell_type": "code",
      "metadata": {
        "id": "Kh-FwM8J_RV_"
      },
      "source": [
        ""
      ],
      "execution_count": null,
      "outputs": []
    },
    {
      "cell_type": "code",
      "metadata": {
        "id": "Z41JLdSNuT3A"
      },
      "source": [
        "\n",
        "from sklearn.ensemble import RandomForestClassifier\n",
        "model=RandomForestClassifier(n_estimators=26)\n",
        "model.fit(X_train,y_train)"
      ],
      "execution_count": null,
      "outputs": []
    },
    {
      "cell_type": "code",
      "metadata": {
        "id": "O-ffAYJ51bRL"
      },
      "source": [
        "train_scores=model.score(X_train,y_train)"
      ],
      "execution_count": null,
      "outputs": []
    },
    {
      "cell_type": "code",
      "metadata": {
        "id": "Ma-blgrWuk0H"
      },
      "source": [
        "test_scores=model.score(X_test,y_test)"
      ],
      "execution_count": null,
      "outputs": []
    },
    {
      "cell_type": "code",
      "metadata": {
        "id": "dhloKsCVvU5_"
      },
      "source": [
        "y_predicted=model.predict(X_test)\n",
        "y_predicted"
      ],
      "execution_count": null,
      "outputs": []
    },
    {
      "cell_type": "code",
      "metadata": {
        "id": "p-jHEF5UfnwI"
      },
      "source": [
        "y_predicted_t=model.predict(X_train)\n",
        "y_predicted_t\n"
      ],
      "execution_count": null,
      "outputs": []
    },
    {
      "cell_type": "code",
      "metadata": {
        "id": "Q2YmWKmzvkBW"
      },
      "source": [
        "from sklearn.metrics import confusion_matrix\n",
        "cm=confusion_matrix(y_test,y_predicted)\n",
        "cm"
      ],
      "execution_count": null,
      "outputs": []
    },
    {
      "cell_type": "code",
      "metadata": {
        "id": "VXdltYWAfv7X"
      },
      "source": [
        "from sklearn.metrics import confusion_matrix\n",
        "cm_t=confusion_matrix(y_train,y_predicted_t)\n",
        "cm_t"
      ],
      "execution_count": null,
      "outputs": []
    },
    {
      "cell_type": "code",
      "metadata": {
        "id": "C9b4s2aIv-r8"
      },
      "source": [
        "%matplotlib inline\n",
        "import matplotlib.pyplot as plt\n",
        "import seaborn as sn\n",
        "plt.figure(figsize=(10,7))\n",
        "sn.heatmap(cm,annot=True)\n",
        "plt.xlabel('Predicted')\n",
        "plt.ylabel('Truth')\n",
        "plt.title(\"Random Forest Confusion Matrix\")"
      ],
      "execution_count": null,
      "outputs": []
    },
    {
      "cell_type": "code",
      "metadata": {
        "id": "9Ac4kAXnSEWR"
      },
      "source": [
        "from sklearn import metrics\n",
        "print('Train set accuracy',metrics.accuracy_score(y_train,model.predict(X_train)))\n",
        "print('Test set accuracy',metrics.accuracy_score(y_test,y_predicted))"
      ],
      "execution_count": null,
      "outputs": []
    },
    {
      "cell_type": "code",
      "metadata": {
        "id": "xzk05UbCDoJ_"
      },
      "source": [
        "from sklearn import metrics\n",
        "print(metrics.classification_report(y_predicted, y_test))"
      ],
      "execution_count": null,
      "outputs": []
    },
    {
      "cell_type": "code",
      "metadata": {
        "id": "HJOxoyvsxiHh"
      },
      "source": [
        "yhat=model.predict([[29.18,  62.31, 420.83,  13.88]])\n",
        "yhat\n"
      ],
      "execution_count": null,
      "outputs": []
    },
    {
      "cell_type": "code",
      "metadata": {
        "id": "ISmyySW24uqz"
      },
      "source": [
        "if yhat==0 :\n",
        "  print('Neutra')\n",
        "elif yhat==1:\n",
        "  print('Happy')\n",
        "elif yhat==2:\n",
        "  print (\"Sad\")\n",
        "else:\n",
        "  print(\"Disgust\")\n",
        "  "
      ],
      "execution_count": null,
      "outputs": []
    },
    {
      "cell_type": "code",
      "metadata": {
        "id": "KnW5DwBq8vMl"
      },
      "source": [
        "\n",
        "\n",
        "\n",
        "\n",
        "from sklearn.model_selection import KFold\n",
        "\n",
        "\n",
        "size = 2000\n",
        "cv = KFold(size, shuffle=True)\n",
        "\n"
      ],
      "execution_count": null,
      "outputs": []
    },
    {
      "cell_type": "code",
      "metadata": {
        "id": "9iRLLFkQmK2G"
      },
      "source": [
        "\n",
        "from sklearn.linear_model import LinearRegression\n",
        "from sklearn.model_selection import learning_curve\n",
        "feature=['S1', 'S2', 'S3','S4']\n",
        "target=['Class']\n",
        "train_sizes,train_scores,test_scores=learning_curve(estimator=LinearRegression(),\n",
        "                                                    X=df[feature], y=df[target], n_jobs=-1, cv=cv, train_sizes=np.linspace(.1, 1.0, 5), verbose=0)\n",
        "\n",
        "                                                    \n"
      ],
      "execution_count": null,
      "outputs": []
    },
    {
      "cell_type": "code",
      "metadata": {
        "id": "JccAl9tu9d6W"
      },
      "source": [
        "train_scores_mean = np.mean(train_scores, axis=1)\n",
        "train_scores_std = np.std(train_scores, axis=1)\n",
        "test_scores_mean = np.mean(test_scores, axis=1)\n",
        "test_scores_std = np.std(test_scores, axis=1)\n",
        "    "
      ],
      "execution_count": null,
      "outputs": []
    },
    {
      "cell_type": "code",
      "metadata": {
        "id": "T4ANPuj_9r4t"
      },
      "source": [
        "plt.figure()\n",
        "plt.title(\"RandomForestClassifier\")\n",
        "plt.legend(loc=\"best\")\n",
        "plt.xlabel(\"Training examples\")\n",
        "plt.ylabel(\"Score\")\n",
        "plt.gca().invert_yaxis()\n",
        "    \n",
        "    # box-like grid\n",
        "plt.grid()\n",
        "    \n",
        "    # plot the std deviation as a transparent range at each training set size\n",
        "plt.fill_between(train_sizes, train_scores_mean - train_scores_std, train_scores_mean + train_scores_std, alpha=0.1, color=\"g\")\n",
        "plt.fill_between(train_sizes, test_scores_mean - test_scores_std, test_scores_mean + test_scores_std, alpha=0.1, color=\"r\")\n",
        "    \n",
        "    # plot the average training and test score lines at each training set size\n",
        "plt.plot(train_sizes, train_scores_mean, 'o-', color=\"g\", label=\"Training score\")\n",
        "plt.plot(train_sizes, test_scores_mean, 'o-', color=\"r\", label=\"Testing score\")\n",
        "    \n",
        "    # sizes the window for readability and displays the plot\n",
        "    # shows error from 0 to 1.1\n",
        "plt.ylim(-2.5,1.4)\n",
        "plt.show()\n"
      ],
      "execution_count": null,
      "outputs": []
    },
    {
      "cell_type": "code",
      "metadata": {
        "id": "optHxTpJYNH-"
      },
      "source": [
        ""
      ],
      "execution_count": null,
      "outputs": []
    },
    {
      "cell_type": "code",
      "metadata": {
        "id": "m_LwnFUyyQJS"
      },
      "source": [
        "print('Training Scores : \\n \\n',train_scores)\n",
        "print('\\n','-'*70)\n",
        "print('test scores :\\n \\n',test_scores)"
      ],
      "execution_count": null,
      "outputs": []
    },
    {
      "cell_type": "code",
      "metadata": {
        "id": "LWDXzxUn4DVG"
      },
      "source": [
        "\n",
        "\n",
        "train_scores_mean = -train_scores.mean(axis = 1)\n",
        "test_scores_mean = -train_scores.mean(axis = 1)\n",
        "print('Mean training scores\\n\\n', pd.Series(train_scores_mean, index = train_sizes))\n",
        "print('\\n', '-' * 20) # separator\n",
        "print('\\nMean Test scores\\n\\n',pd.Series(test_scores_mean, index = train_sizes))"
      ],
      "execution_count": null,
      "outputs": []
    },
    {
      "cell_type": "code",
      "metadata": {
        "id": "6pMP6aav5D27"
      },
      "source": [
        "import matplotlib.pyplot as plt\n",
        "\n",
        "plt.style.use('seaborn')\n",
        "plt.plot(train_sizes, train_scores_mean, label = 'Training error')\n",
        "plt.plot(train_sizes, test_scores_mean, label = 'Test error')\n",
        "plt.ylabel('MSE', fontsize = 14)\n",
        "plt.xlabel('Training set size', fontsize = 14)\n",
        "plt.title('Learning curves for a linear regression model', fontsize = 18, y = 1.03)\n",
        "plt.legend()\n",
        "plt.ylim(-2,40)\n"
      ],
      "execution_count": null,
      "outputs": []
    },
    {
      "cell_type": "code",
      "metadata": {
        "id": "_TKQraVR5yXc"
      },
      "source": [
        ""
      ],
      "execution_count": null,
      "outputs": []
    }
  ]
}